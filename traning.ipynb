{
 "cells": [
  {
   "cell_type": "markdown",
   "id": "88f958d4",
   "metadata": {},
   "source": [
    "# Imports"
   ]
  },
  {
   "cell_type": "code",
   "execution_count": 1,
   "id": "e98b20af",
   "metadata": {
    "pycharm": {
     "is_executing": true
    }
   },
   "outputs": [],
   "source": [
    "import numpy as np\n",
    "import os\n",
    "import PIL\n",
    "import tensorflow as tf\n",
    "\n",
    "from tensorflow import keras\n",
    "from tensorflow.keras import layers\n",
    "from tensorflow.keras import Model\n",
    "\n",
    "# Models\n",
    "from tensorflow.keras.layers import Input, Conv2D , MaxPool2D, Flatten, Dense , Dropout\n",
    "from tensorflow.keras.optimizers import Adam,RMSprop,SGD,Adagrad\n",
    "from tensorflow.keras import regularizers\n",
    "\n",
    "# Callbacks\n",
    "from tensorflow.keras.callbacks import ModelCheckpoint, EarlyStopping\n",
    "import datetime\n",
    "\n",
    "# Importing Data\n",
    "from keras.preprocessing.image import ImageDataGenerator"
   ]
  },
  {
   "cell_type": "markdown",
   "id": "ad14ec79",
   "metadata": {},
   "source": [
    "## GPU Check"
   ]
  },
  {
   "cell_type": "code",
   "execution_count": 2,
   "id": "a9aa2390",
   "metadata": {
    "pycharm": {
     "is_executing": true
    }
   },
   "outputs": [
    {
     "name": "stdout",
     "output_type": "stream",
     "text": [
      "Num GPUs Available:  1\n"
     ]
    }
   ],
   "source": [
    "print(\"Num GPUs Available: \", len(tf.config.list_physical_devices('GPU')))"
   ]
  },
  {
   "cell_type": "markdown",
   "id": "3df011ff",
   "metadata": {},
   "source": [
    "## Creating the Datasets"
   ]
  },
  {
   "cell_type": "markdown",
   "id": "b990d75d",
   "metadata": {},
   "source": [
    "Define paramters for the data loaders"
   ]
  },
  {
   "cell_type": "code",
   "execution_count": 3,
   "id": "b9fcf732",
   "metadata": {
    "pycharm": {
     "is_executing": true
    }
   },
   "outputs": [
    {
     "name": "stdout",
     "output_type": "stream",
     "text": [
      "0.0001\n",
      "data/FER_2013/train/\n",
      "data/FER_2013/test/\n"
     ]
    }
   ],
   "source": [
    "batch_size = 64  #4 Jaffe , 16 CK+ , 64 FER2013\n",
    "\n",
    "validation_split = 0.3\n",
    "img_height = 48\n",
    "img_width = 48\n",
    "\n",
    "learning_rate = 0.0001\n",
    "print(learning_rate)\n",
    "\n",
    "color_mode = 'grayscale'\n",
    "dataset_name = \"FER_2013\" # \"JAFFE\" , \"CK+\" , \"FER_2013\"\n",
    "\n",
    "train_data = \"data/\"+ dataset_name + \"/train/\"\n",
    "test_data = \"data/\"+ dataset_name + \"/test/\"\n",
    "\n",
    "print(train_data)\n",
    "print(test_data)"
   ]
  },
  {
   "cell_type": "markdown",
   "id": "4012950b",
   "metadata": {},
   "source": [
    "## Load the data into the datasets"
   ]
  },
  {
   "cell_type": "code",
   "execution_count": 4,
   "id": "a180a0a5",
   "metadata": {
    "pycharm": {
     "is_executing": true
    }
   },
   "outputs": [
    {
     "name": "stdout",
     "output_type": "stream",
     "text": [
      "Found 20099 images belonging to 7 classes.\n",
      "Found 8610 images belonging to 7 classes.\n",
      "Found 7178 images belonging to 7 classes.\n"
     ]
    }
   ],
   "source": [
    "train_datagen = ImageDataGenerator(rescale=1./255,\n",
    "                                   zoom_range=0.3,\n",
    "                                    validation_split=validation_split,\n",
    "                                    horizontal_flip=True)\n",
    "\n",
    "train_ds=train_datagen.flow_from_directory(train_data,\n",
    "                                            batch_size=batch_size,\n",
    "                                            target_size=(img_height,img_width),\n",
    "                                            shuffle=True,\n",
    "                                            color_mode=color_mode,\n",
    "                                            class_mode='categorical',\n",
    "                                            subset='training'\n",
    "                                           )\n",
    "\n",
    "val_ds=train_datagen.flow_from_directory(train_data,\n",
    "                                            batch_size=batch_size,\n",
    "                                            target_size=(img_height,img_width),\n",
    "                                            shuffle=True,\n",
    "                                            color_mode=color_mode,\n",
    "                                            class_mode='categorical',\n",
    "                                            subset='validation'\n",
    "                                           )\n",
    "\n",
    "\n",
    "\n",
    "test_datagen = ImageDataGenerator(rescale=1./255)\n",
    "test_ds = test_datagen.flow_from_directory(test_data,\n",
    "                                            batch_size=batch_size,\n",
    "                                            target_size=(img_height,img_width),\n",
    "                                            shuffle=False,\n",
    "                                            color_mode=color_mode,class_mode='categorical')"
   ]
  },
  {
   "cell_type": "markdown",
   "id": "a9c1de31",
   "metadata": {},
   "source": [
    "## View the classes in the dataset"
   ]
  },
  {
   "cell_type": "code",
   "execution_count": 5,
   "id": "a25aa385",
   "metadata": {},
   "outputs": [
    {
     "data": {
      "text/plain": [
       "{'angry': 0,\n",
       " 'disgust': 1,\n",
       " 'fear': 2,\n",
       " 'happy': 3,\n",
       " 'neutral': 4,\n",
       " 'sad': 5,\n",
       " 'surprise': 6}"
      ]
     },
     "execution_count": 5,
     "metadata": {},
     "output_type": "execute_result"
    }
   ],
   "source": [
    "train_ds.class_indices"
   ]
  },
  {
   "cell_type": "markdown",
   "id": "ae2e7aad",
   "metadata": {},
   "source": [
    "# Creating the Model"
   ]
  },
  {
   "cell_type": "code",
   "execution_count": 6,
   "id": "6b088830",
   "metadata": {
    "pycharm": {
     "is_executing": true
    },
    "scrolled": false
   },
   "outputs": [],
   "source": [
    "import cnn_models\n",
    "from cnn_models import *\n",
    "\n",
    "architecture = \"VGG\"\n",
    "model = \"19\"\n",
    "attention = \"\" #SEnet , ECANet , CBAM\n",
    "extra = \"\"\n",
    "\n",
    "model_name = [architecture, model , attention , extra]\n",
    "model_name = '_'.join(model_name)\n",
    "\n",
    "#model = model_ResNet_V1(model=\"ResNet152\", img_height=img_height , img_width=img_width,attention=attention , pooling=\"avg\")\n",
    "#model = model_ResNet_V2(model=\"ResNet50\", img_height=img_height , img_width=img_width,attention=attention , pooling=\"avg\")\n",
    "model = model_vgg19(a_hidden=\"elu\" , attention=attention)\n"
   ]
  },
  {
   "cell_type": "markdown",
   "id": "555887b6",
   "metadata": {},
   "source": [
    "## Compile the model"
   ]
  },
  {
   "cell_type": "code",
   "execution_count": 7,
   "id": "4db4bd98",
   "metadata": {
    "pycharm": {
     "is_executing": true
    }
   },
   "outputs": [],
   "source": [
    "model.compile(optimizer = Adam(learning_rate=learning_rate),\n",
    "              loss=tf.keras.losses.CategoricalCrossentropy(),\n",
    "              metrics=['accuracy'])"
   ]
  },
  {
   "cell_type": "markdown",
   "id": "50db914c",
   "metadata": {},
   "source": [
    "## View Model Summary"
   ]
  },
  {
   "cell_type": "code",
   "execution_count": 8,
   "id": "bedceb52",
   "metadata": {
    "pycharm": {
     "is_executing": true
    },
    "scrolled": true
   },
   "outputs": [
    {
     "name": "stdout",
     "output_type": "stream",
     "text": [
      "Model: \"VGG19\"\n",
      "_________________________________________________________________\n",
      " Layer (type)                Output Shape              Param #   \n",
      "=================================================================\n",
      " img (InputLayer)            [(None, 48, 48, 1)]       0         \n",
      "                                                                 \n",
      " Conv1.1 (Conv2D)            (None, 48, 48, 64)        640       \n",
      "                                                                 \n",
      " Conv1.2 (Conv2D)            (None, 48, 48, 64)        36928     \n",
      "                                                                 \n",
      " MaxPool2D_1 (MaxPooling2D)  (None, 24, 24, 64)        0         \n",
      "                                                                 \n",
      " Conv2.1 (Conv2D)            (None, 24, 24, 128)       73856     \n",
      "                                                                 \n",
      " Conv2.2 (Conv2D)            (None, 24, 24, 128)       147584    \n",
      "                                                                 \n",
      " MaxPool2D_2 (MaxPooling2D)  (None, 12, 12, 128)       0         \n",
      "                                                                 \n",
      " Conv3.1 (Conv2D)            (None, 12, 12, 256)       295168    \n",
      "                                                                 \n",
      " Conv3.2 (Conv2D)            (None, 12, 12, 256)       590080    \n",
      "                                                                 \n",
      " Conv3.3 (Conv2D)            (None, 12, 12, 256)       590080    \n",
      "                                                                 \n",
      " Conv3.4 (Conv2D)            (None, 12, 12, 256)       590080    \n",
      "                                                                 \n",
      " MaxPool2D_3 (MaxPooling2D)  (None, 6, 6, 256)         0         \n",
      "                                                                 \n",
      " Conv4.1 (Conv2D)            (None, 6, 6, 512)         1180160   \n",
      "                                                                 \n",
      " Conv4.2 (Conv2D)            (None, 6, 6, 512)         2359808   \n",
      "                                                                 \n",
      " Conv4.3 (Conv2D)            (None, 6, 6, 512)         2359808   \n",
      "                                                                 \n",
      " Conv4.4 (Conv2D)            (None, 6, 6, 512)         2359808   \n",
      "                                                                 \n",
      " MaxPool2D_4 (MaxPooling2D)  (None, 3, 3, 512)         0         \n",
      "                                                                 \n",
      " Conv5.1 (Conv2D)            (None, 3, 3, 512)         2359808   \n",
      "                                                                 \n",
      " Conv5.2 (Conv2D)            (None, 3, 3, 512)         2359808   \n",
      "                                                                 \n",
      " Conv5.3 (Conv2D)            (None, 3, 3, 512)         2359808   \n",
      "                                                                 \n",
      " Conv5.4 (Conv2D)            (None, 3, 3, 512)         2359808   \n",
      "                                                                 \n",
      " MaxPool2D_5 (MaxPooling2D)  (None, 2, 2, 512)         0         \n",
      "                                                                 \n",
      " flatten (Flatten)           (None, 2048)              0         \n",
      "                                                                 \n",
      " Dense1 (Dense)              (None, 4096)              8392704   \n",
      "                                                                 \n",
      " Dense2 (Dense)              (None, 4096)              16781312  \n",
      "                                                                 \n",
      " DenseFinal (Dense)          (None, 7)                 28679     \n",
      "                                                                 \n",
      "=================================================================\n",
      "Total params: 45,225,927\n",
      "Trainable params: 45,225,927\n",
      "Non-trainable params: 0\n",
      "_________________________________________________________________\n"
     ]
    }
   ],
   "source": [
    "model.summary()"
   ]
  },
  {
   "cell_type": "markdown",
   "id": "e9377e3c",
   "metadata": {},
   "source": [
    "## Plot the the CNN Model"
   ]
  },
  {
   "cell_type": "code",
   "execution_count": 9,
   "id": "248f97ed",
   "metadata": {
    "scrolled": true
   },
   "outputs": [],
   "source": [
    "# from tensorflow.keras.utils import plot_model\n",
    "# from IPython.display import Image \n",
    "\n",
    "\n",
    "# plot_model(model, show_shapes=True, show_layer_names=True, to_file='model.png')\n",
    "# Image('model.png', width = 400)"
   ]
  },
  {
   "cell_type": "markdown",
   "id": "6f323e31",
   "metadata": {},
   "source": [
    "## Train the Model"
   ]
  },
  {
   "cell_type": "code",
   "execution_count": 10,
   "id": "ae91b73d",
   "metadata": {},
   "outputs": [],
   "source": [
    "name = [model_name, dataset_name , 'weights']\n",
    "name = '_'.join(name) + \".hdf5\"\n",
    "\n",
    "checkpoint_file_path = \"models/\" + name\n",
    "\n",
    "\n",
    "checkpoint = ModelCheckpoint(filepath=checkpoint_file_path,\n",
    "                            monitor=\"val_accuracy\",\n",
    "                            verbose = 1,\n",
    "                            save_best_only = True,\n",
    "                            save_weights_only = False,\n",
    "                            mode= \"auto\",\n",
    "                            save_freq= \"epoch\",\n",
    "                            options=None)\n",
    "\n",
    "\n",
    "early_stop = EarlyStopping(monitor='val_loss',\n",
    "                          min_delta=0, # Minimum change in the monitored quantity to qualify as an improvemen\n",
    "                          patience=15, # Number of epochs with no improvement after which training will be stopped\n",
    "                          verbose=1,\n",
    "                          mode='auto')\n",
    "\n",
    "# Load the TensorBoard notebook extension\n",
    "log_dir = \"logs/fit/\" + model_name + \"_\" + dataset_name + datetime.datetime.now().strftime(\"%d-%H.%M.%S\")\n",
    "tensorboard_callback = tf.keras.callbacks.TensorBoard(log_dir=log_dir, histogram_freq=1)"
   ]
  },
  {
   "cell_type": "markdown",
   "id": "97e09b03",
   "metadata": {},
   "source": [
    "## Execute Training "
   ]
  },
  {
   "cell_type": "code",
   "execution_count": 11,
   "id": "d3b518ab",
   "metadata": {
    "pycharm": {
     "is_executing": true
    },
    "scrolled": true
   },
   "outputs": [
    {
     "name": "stdout",
     "output_type": "stream",
     "text": [
      "Epoch 1/200\n",
      "315/315 [==============================] - ETA: 0s - loss: 1.7100 - accuracy: 0.3076\n",
      "Epoch 1: val_accuracy improved from -inf to 0.37851, saving model to models\\VGG_19___FER_2013_weights.hdf5\n",
      "315/315 [==============================] - 127s 384ms/step - loss: 1.7100 - accuracy: 0.3076 - val_loss: 1.5761 - val_accuracy: 0.3785\n",
      "Epoch 2/200\n",
      "315/315 [==============================] - ETA: 0s - loss: 1.5271 - accuracy: 0.4039\n",
      "Epoch 2: val_accuracy improved from 0.37851 to 0.43089, saving model to models\\VGG_19___FER_2013_weights.hdf5\n",
      "315/315 [==============================] - 42s 133ms/step - loss: 1.5271 - accuracy: 0.4039 - val_loss: 1.4777 - val_accuracy: 0.4309\n",
      "Epoch 3/200\n",
      "315/315 [==============================] - ETA: 0s - loss: 1.4573 - accuracy: 0.4353\n",
      "Epoch 3: val_accuracy improved from 0.43089 to 0.47166, saving model to models\\VGG_19___FER_2013_weights.hdf5\n",
      "315/315 [==============================] - 39s 123ms/step - loss: 1.4573 - accuracy: 0.4353 - val_loss: 1.3818 - val_accuracy: 0.4717\n",
      "Epoch 4/200\n",
      "315/315 [==============================] - ETA: 0s - loss: 1.3909 - accuracy: 0.4666\n",
      "Epoch 4: val_accuracy did not improve from 0.47166\n",
      "315/315 [==============================] - 38s 119ms/step - loss: 1.3909 - accuracy: 0.4666 - val_loss: 1.4777 - val_accuracy: 0.4279\n",
      "Epoch 5/200\n",
      "315/315 [==============================] - ETA: 0s - loss: 1.3589 - accuracy: 0.4799\n",
      "Epoch 5: val_accuracy improved from 0.47166 to 0.48804, saving model to models\\VGG_19___FER_2013_weights.hdf5\n",
      "315/315 [==============================] - 40s 128ms/step - loss: 1.3589 - accuracy: 0.4799 - val_loss: 1.3398 - val_accuracy: 0.4880\n",
      "Epoch 6/200\n",
      "315/315 [==============================] - ETA: 0s - loss: 1.3481 - accuracy: 0.4863\n",
      "Epoch 6: val_accuracy improved from 0.48804 to 0.48931, saving model to models\\VGG_19___FER_2013_weights.hdf5\n",
      "315/315 [==============================] - 52s 164ms/step - loss: 1.3481 - accuracy: 0.4863 - val_loss: 1.3381 - val_accuracy: 0.4893\n",
      "Epoch 7/200\n",
      "315/315 [==============================] - ETA: 0s - loss: 1.2881 - accuracy: 0.5131\n",
      "Epoch 7: val_accuracy improved from 0.48931 to 0.50151, saving model to models\\VGG_19___FER_2013_weights.hdf5\n",
      "315/315 [==============================] - 48s 150ms/step - loss: 1.2881 - accuracy: 0.5131 - val_loss: 1.3075 - val_accuracy: 0.5015\n",
      "Epoch 8/200\n",
      "315/315 [==============================] - ETA: 0s - loss: 1.2584 - accuracy: 0.5197\n",
      "Epoch 8: val_accuracy improved from 0.50151 to 0.50221, saving model to models\\VGG_19___FER_2013_weights.hdf5\n",
      "315/315 [==============================] - 44s 139ms/step - loss: 1.2584 - accuracy: 0.5197 - val_loss: 1.2783 - val_accuracy: 0.5022\n",
      "Epoch 9/200\n",
      "315/315 [==============================] - ETA: 0s - loss: 1.2294 - accuracy: 0.5339\n",
      "Epoch 9: val_accuracy improved from 0.50221 to 0.51150, saving model to models\\VGG_19___FER_2013_weights.hdf5\n",
      "315/315 [==============================] - 47s 148ms/step - loss: 1.2294 - accuracy: 0.5339 - val_loss: 1.2778 - val_accuracy: 0.5115\n",
      "Epoch 10/200\n",
      "315/315 [==============================] - ETA: 0s - loss: 1.2156 - accuracy: 0.5421\n",
      "Epoch 10: val_accuracy improved from 0.51150 to 0.52613, saving model to models\\VGG_19___FER_2013_weights.hdf5\n",
      "315/315 [==============================] - 49s 154ms/step - loss: 1.2156 - accuracy: 0.5421 - val_loss: 1.2422 - val_accuracy: 0.5261\n",
      "Epoch 11/200\n",
      "315/315 [==============================] - ETA: 0s - loss: 1.2064 - accuracy: 0.5429\n",
      "Epoch 11: val_accuracy did not improve from 0.52613\n",
      "315/315 [==============================] - 44s 140ms/step - loss: 1.2064 - accuracy: 0.5429 - val_loss: 1.2805 - val_accuracy: 0.5206\n",
      "Epoch 12/200\n",
      "315/315 [==============================] - ETA: 0s - loss: 1.1708 - accuracy: 0.5577\n",
      "Epoch 12: val_accuracy improved from 0.52613 to 0.53461, saving model to models\\VGG_19___FER_2013_weights.hdf5\n",
      "315/315 [==============================] - 47s 148ms/step - loss: 1.1708 - accuracy: 0.5577 - val_loss: 1.2361 - val_accuracy: 0.5346\n",
      "Epoch 13/200\n",
      "315/315 [==============================] - ETA: 0s - loss: 1.1621 - accuracy: 0.5578\n",
      "Epoch 13: val_accuracy did not improve from 0.53461\n",
      "315/315 [==============================] - 45s 143ms/step - loss: 1.1621 - accuracy: 0.5578 - val_loss: 1.2219 - val_accuracy: 0.5339\n",
      "Epoch 14/200\n",
      "315/315 [==============================] - ETA: 0s - loss: 1.1442 - accuracy: 0.5707\n",
      "Epoch 14: val_accuracy did not improve from 0.53461\n",
      "315/315 [==============================] - 45s 142ms/step - loss: 1.1442 - accuracy: 0.5707 - val_loss: 1.2595 - val_accuracy: 0.5298\n",
      "Epoch 15/200\n",
      "315/315 [==============================] - ETA: 0s - loss: 1.1293 - accuracy: 0.5747\n",
      "Epoch 15: val_accuracy improved from 0.53461 to 0.53926, saving model to models\\VGG_19___FER_2013_weights.hdf5\n",
      "315/315 [==============================] - 47s 148ms/step - loss: 1.1293 - accuracy: 0.5747 - val_loss: 1.2279 - val_accuracy: 0.5393\n",
      "Epoch 16/200\n",
      "315/315 [==============================] - ETA: 0s - loss: 1.1192 - accuracy: 0.5785\n",
      "Epoch 16: val_accuracy did not improve from 0.53926\n",
      "315/315 [==============================] - 46s 144ms/step - loss: 1.1192 - accuracy: 0.5785 - val_loss: 1.2092 - val_accuracy: 0.5379\n",
      "Epoch 17/200\n",
      "315/315 [==============================] - ETA: 0s - loss: 1.0792 - accuracy: 0.5949\n",
      "Epoch 17: val_accuracy did not improve from 0.53926\n",
      "315/315 [==============================] - 34s 108ms/step - loss: 1.0792 - accuracy: 0.5949 - val_loss: 1.2352 - val_accuracy: 0.5386\n",
      "Epoch 18/200\n",
      "315/315 [==============================] - ETA: 0s - loss: 1.0634 - accuracy: 0.6047\n",
      "Epoch 18: val_accuracy improved from 0.53926 to 0.54495, saving model to models\\VGG_19___FER_2013_weights.hdf5\n",
      "315/315 [==============================] - 36s 114ms/step - loss: 1.0634 - accuracy: 0.6047 - val_loss: 1.2178 - val_accuracy: 0.5449\n",
      "Epoch 19/200\n",
      "315/315 [==============================] - ETA: 0s - loss: 1.0337 - accuracy: 0.6120\n",
      "Epoch 19: val_accuracy did not improve from 0.54495\n",
      "315/315 [==============================] - 32s 102ms/step - loss: 1.0337 - accuracy: 0.6120 - val_loss: 1.2513 - val_accuracy: 0.5307\n",
      "Epoch 20/200\n",
      "315/315 [==============================] - ETA: 0s - loss: 1.0360 - accuracy: 0.6093\n",
      "Epoch 20: val_accuracy did not improve from 0.54495\n",
      "315/315 [==============================] - 32s 103ms/step - loss: 1.0360 - accuracy: 0.6093 - val_loss: 1.1985 - val_accuracy: 0.5423\n",
      "Epoch 21/200\n",
      "315/315 [==============================] - ETA: 0s - loss: 1.0071 - accuracy: 0.6256\n",
      "Epoch 21: val_accuracy did not improve from 0.54495\n",
      "315/315 [==============================] - 32s 103ms/step - loss: 1.0071 - accuracy: 0.6256 - val_loss: 1.2136 - val_accuracy: 0.5432\n",
      "Epoch 22/200\n",
      "315/315 [==============================] - ETA: 0s - loss: 0.9841 - accuracy: 0.6297\n",
      "Epoch 22: val_accuracy improved from 0.54495 to 0.55738, saving model to models\\VGG_19___FER_2013_weights.hdf5\n",
      "315/315 [==============================] - 36s 114ms/step - loss: 0.9841 - accuracy: 0.6297 - val_loss: 1.2106 - val_accuracy: 0.5574\n",
      "Epoch 23/200\n",
      "315/315 [==============================] - ETA: 0s - loss: 0.9907 - accuracy: 0.6288\n",
      "Epoch 23: val_accuracy did not improve from 0.55738\n",
      "315/315 [==============================] - 36s 113ms/step - loss: 0.9907 - accuracy: 0.6288 - val_loss: 1.2080 - val_accuracy: 0.5487\n",
      "Epoch 24/200\n",
      "315/315 [==============================] - ETA: 0s - loss: 0.9756 - accuracy: 0.6347\n",
      "Epoch 24: val_accuracy improved from 0.55738 to 0.56132, saving model to models\\VGG_19___FER_2013_weights.hdf5\n",
      "315/315 [==============================] - 35s 112ms/step - loss: 0.9756 - accuracy: 0.6347 - val_loss: 1.1897 - val_accuracy: 0.5613\n",
      "Epoch 25/200\n",
      "315/315 [==============================] - ETA: 0s - loss: 0.9585 - accuracy: 0.6436\n",
      "Epoch 25: val_accuracy improved from 0.56132 to 0.56400, saving model to models\\VGG_19___FER_2013_weights.hdf5\n",
      "315/315 [==============================] - 36s 114ms/step - loss: 0.9585 - accuracy: 0.6436 - val_loss: 1.1756 - val_accuracy: 0.5640\n",
      "Epoch 26/200\n",
      "315/315 [==============================] - ETA: 0s - loss: 0.9378 - accuracy: 0.6498\n",
      "Epoch 26: val_accuracy improved from 0.56400 to 0.57120, saving model to models\\VGG_19___FER_2013_weights.hdf5\n",
      "315/315 [==============================] - 37s 118ms/step - loss: 0.9378 - accuracy: 0.6498 - val_loss: 1.1901 - val_accuracy: 0.5712\n"
     ]
    },
    {
     "name": "stdout",
     "output_type": "stream",
     "text": [
      "Epoch 27/200\n",
      "315/315 [==============================] - ETA: 0s - loss: 0.9385 - accuracy: 0.6520\n",
      "Epoch 27: val_accuracy did not improve from 0.57120\n",
      "315/315 [==============================] - 35s 110ms/step - loss: 0.9385 - accuracy: 0.6520 - val_loss: 1.1733 - val_accuracy: 0.5613\n",
      "Epoch 28/200\n",
      "315/315 [==============================] - ETA: 0s - loss: 0.9129 - accuracy: 0.6596\n",
      "Epoch 28: val_accuracy improved from 0.57120 to 0.57282, saving model to models\\VGG_19___FER_2013_weights.hdf5\n",
      "315/315 [==============================] - 38s 119ms/step - loss: 0.9129 - accuracy: 0.6596 - val_loss: 1.1809 - val_accuracy: 0.5728\n",
      "Epoch 29/200\n",
      "315/315 [==============================] - ETA: 0s - loss: 0.8928 - accuracy: 0.6671\n",
      "Epoch 29: val_accuracy did not improve from 0.57282\n",
      "315/315 [==============================] - 36s 113ms/step - loss: 0.8928 - accuracy: 0.6671 - val_loss: 1.1901 - val_accuracy: 0.5633\n",
      "Epoch 30/200\n",
      "315/315 [==============================] - ETA: 0s - loss: 0.8781 - accuracy: 0.6747\n",
      "Epoch 30: val_accuracy did not improve from 0.57282\n",
      "315/315 [==============================] - 35s 112ms/step - loss: 0.8781 - accuracy: 0.6747 - val_loss: 1.1853 - val_accuracy: 0.5678\n",
      "Epoch 31/200\n",
      "315/315 [==============================] - ETA: 0s - loss: 0.8596 - accuracy: 0.6833\n",
      "Epoch 31: val_accuracy improved from 0.57282 to 0.57956, saving model to models\\VGG_19___FER_2013_weights.hdf5\n",
      "315/315 [==============================] - 38s 119ms/step - loss: 0.8596 - accuracy: 0.6833 - val_loss: 1.2194 - val_accuracy: 0.5796\n",
      "Epoch 32/200\n",
      "315/315 [==============================] - ETA: 0s - loss: 0.8503 - accuracy: 0.6890\n",
      "Epoch 32: val_accuracy did not improve from 0.57956\n",
      "315/315 [==============================] - 37s 118ms/step - loss: 0.8503 - accuracy: 0.6890 - val_loss: 1.1804 - val_accuracy: 0.5768\n",
      "Epoch 33/200\n",
      "315/315 [==============================] - ETA: 0s - loss: 0.8235 - accuracy: 0.6950\n",
      "Epoch 33: val_accuracy did not improve from 0.57956\n",
      "315/315 [==============================] - 34s 108ms/step - loss: 0.8235 - accuracy: 0.6950 - val_loss: 1.1985 - val_accuracy: 0.5777\n",
      "Epoch 34/200\n",
      "315/315 [==============================] - ETA: 0s - loss: 0.8288 - accuracy: 0.6948\n",
      "Epoch 34: val_accuracy did not improve from 0.57956\n",
      "315/315 [==============================] - 33s 105ms/step - loss: 0.8288 - accuracy: 0.6948 - val_loss: 1.2284 - val_accuracy: 0.5715\n",
      "Epoch 35/200\n",
      "315/315 [==============================] - ETA: 0s - loss: 0.8145 - accuracy: 0.6986\n",
      "Epoch 35: val_accuracy did not improve from 0.57956\n",
      "315/315 [==============================] - 34s 107ms/step - loss: 0.8145 - accuracy: 0.6986 - val_loss: 1.2283 - val_accuracy: 0.5584\n",
      "Epoch 36/200\n",
      "315/315 [==============================] - ETA: 0s - loss: 0.7638 - accuracy: 0.7180\n",
      "Epoch 36: val_accuracy did not improve from 0.57956\n",
      "315/315 [==============================] - 34s 106ms/step - loss: 0.7638 - accuracy: 0.7180 - val_loss: 1.2483 - val_accuracy: 0.5669\n",
      "Epoch 37/200\n",
      "315/315 [==============================] - ETA: 0s - loss: 0.7486 - accuracy: 0.7257\n",
      "Epoch 37: val_accuracy did not improve from 0.57956\n",
      "315/315 [==============================] - 34s 108ms/step - loss: 0.7486 - accuracy: 0.7257 - val_loss: 1.2606 - val_accuracy: 0.5754\n",
      "Epoch 38/200\n",
      "315/315 [==============================] - ETA: 0s - loss: 0.7409 - accuracy: 0.7311\n",
      "Epoch 38: val_accuracy improved from 0.57956 to 0.58107, saving model to models\\VGG_19___FER_2013_weights.hdf5\n",
      "315/315 [==============================] - 37s 117ms/step - loss: 0.7409 - accuracy: 0.7311 - val_loss: 1.2124 - val_accuracy: 0.5811\n",
      "Epoch 39/200\n",
      "315/315 [==============================] - ETA: 0s - loss: 0.7227 - accuracy: 0.7325\n",
      "Epoch 39: val_accuracy did not improve from 0.58107\n",
      "315/315 [==============================] - 34s 107ms/step - loss: 0.7227 - accuracy: 0.7325 - val_loss: 1.2887 - val_accuracy: 0.5633\n",
      "Epoch 40/200\n",
      "315/315 [==============================] - ETA: 0s - loss: 0.7041 - accuracy: 0.7421\n",
      "Epoch 40: val_accuracy improved from 0.58107 to 0.58211, saving model to models\\VGG_19___FER_2013_weights.hdf5\n",
      "315/315 [==============================] - 38s 121ms/step - loss: 0.7041 - accuracy: 0.7421 - val_loss: 1.2414 - val_accuracy: 0.5821\n",
      "Epoch 41/200\n",
      "315/315 [==============================] - ETA: 0s - loss: 0.6687 - accuracy: 0.7540\n",
      "Epoch 41: val_accuracy did not improve from 0.58211\n",
      "315/315 [==============================] - 35s 110ms/step - loss: 0.6687 - accuracy: 0.7540 - val_loss: 1.3215 - val_accuracy: 0.5731\n",
      "Epoch 42/200\n",
      "315/315 [==============================] - ETA: 0s - loss: 0.6476 - accuracy: 0.7644\n",
      "Epoch 42: val_accuracy improved from 0.58211 to 0.58444, saving model to models\\VGG_19___FER_2013_weights.hdf5\n",
      "315/315 [==============================] - 37s 118ms/step - loss: 0.6476 - accuracy: 0.7644 - val_loss: 1.2671 - val_accuracy: 0.5844\n",
      "Epoch 42: early stopping\n"
     ]
    }
   ],
   "source": [
    "epochs=200\n",
    "history = model.fit(\n",
    "    train_ds,\n",
    "    workers=8,\n",
    "    validation_data=val_ds,\n",
    "    epochs=epochs,\n",
    "    callbacks = [early_stop,tensorboard_callback,checkpoint] \n",
    ")"
   ]
  },
  {
   "cell_type": "markdown",
   "id": "e404fcd1",
   "metadata": {},
   "source": [
    "## Accuracy and Loss Graphs"
   ]
  },
  {
   "cell_type": "code",
   "execution_count": 12,
   "id": "2e1ffbf9",
   "metadata": {
    "pycharm": {
     "is_executing": true
    },
    "scrolled": false
   },
   "outputs": [
    {
     "data": {
      "image/png": "[encoded data removed]",
      "text/plain": [
       "<Figure size 432x288 with 1 Axes>"
      ]
     },
     "metadata": {
      "needs_background": "light"
     },
     "output_type": "display_data"
    },
    {
     "data": {
      "image/png": "[encoded data removed]",
      "text/plain": [
       "<Figure size 432x288 with 1 Axes>"
      ]
     },
     "metadata": {
      "needs_background": "light"
     },
     "output_type": "display_data"
    }
   ],
   "source": [
    "import matplotlib.pyplot as plt\n",
    "\n",
    "acc = history.history['accuracy']\n",
    "val_acc = history.history['val_accuracy']\n",
    "\n",
    "loss = history.history['loss']\n",
    "val_loss = history.history['val_loss']\n",
    "\n",
    "\n",
    "plt.plot(loss, label='train')\n",
    "plt.plot(val_loss, label='test')\n",
    "plt.title('Training and Validation Loss')\n",
    "plt.legend()\n",
    "plt.show()\n",
    "\n",
    "plt.plot(acc, label='train')\n",
    "plt.plot(val_acc, label='test')\n",
    "plt.title('Training and Validation Accuracy')\n",
    "plt.legend()\n",
    "plt.show()"
   ]
  },
  {
   "cell_type": "markdown",
   "id": "8106904d",
   "metadata": {},
   "source": [
    "## Evaluate the Model"
   ]
  },
  {
   "cell_type": "code",
   "execution_count": 13,
   "id": "6c529aa2",
   "metadata": {
    "pycharm": {
     "is_executing": true
    }
   },
   "outputs": [
    {
     "name": "stdout",
     "output_type": "stream",
     "text": [
      "Evaluate\n",
      "113/113 [==============================] - 30s 266ms/step - loss: 1.2072 - accuracy: 0.6209\n"
     ]
    },
    {
     "data": {
      "text/plain": [
       "{'loss': 1.207199215888977, 'accuracy': 0.6209250688552856}"
      ]
     },
     "execution_count": 13,
     "metadata": {},
     "output_type": "execute_result"
    }
   ],
   "source": [
    "print(\"Evaluate\")\n",
    "\n",
    "\n",
    "#checkpoint_file_path_test = \"models/\" + \"VGG_19___FER_2013_weights.hdf5\"\n",
    "\n",
    "\n",
    "\n",
    "model.load_weights(checkpoint_file_path) #Load the best weights from the file\n",
    "result = model.evaluate(test_ds)\n",
    "dict(zip(model.metrics_names, result))"
   ]
  },
  {
   "cell_type": "code",
   "execution_count": 14,
   "id": "28173400",
   "metadata": {},
   "outputs": [],
   "source": [
    "import winsound\n",
    "\n",
    "winsound.Beep(300, 700)"
   ]
  },
  {
   "cell_type": "markdown",
   "id": "497fdadd",
   "metadata": {},
   "source": [
    "## Confusion Matrix and Classification"
   ]
  },
  {
   "cell_type": "code",
   "execution_count": 15,
   "id": "c7368020",
   "metadata": {
    "pycharm": {
     "is_executing": true
    }
   },
   "outputs": [
    {
     "name": "stdout",
     "output_type": "stream",
     "text": [
      "['angry', 'disgust', 'fear', 'happy', 'neutral', 'sad', 'surprise']\n",
      "              precision    recall  f1-score   support\n",
      "\n",
      "       angry     0.5537    0.5219    0.5373       958\n",
      "     disgust     0.7969    0.4595    0.5829       111\n",
      "        fear     0.4657    0.4580    0.4618      1024\n",
      "       happy     0.7907    0.8478    0.8183      1774\n",
      "     neutral     0.5363    0.6058    0.5689      1233\n",
      "         sad     0.5171    0.4844    0.5002      1247\n",
      "    surprise     0.7854    0.7004    0.7405       831\n",
      "\n",
      "    accuracy                         0.6209      7178\n",
      "   macro avg     0.6351    0.5825    0.6014      7178\n",
      "weighted avg     0.6210    0.6209    0.6192      7178\n",
      "\n"
     ]
    },
    {
     "data": {
      "image/png": "[encoded data removed]",
      "text/plain": [
       "<Figure size 720x576 with 2 Axes>"
      ]
     },
     "metadata": {
      "needs_background": "light"
     },
     "output_type": "display_data"
    }
   ],
   "source": [
    "import seaborn as sns\n",
    "from sklearn.metrics import classification_report\n",
    "\n",
    "# defines which dataset we want to show the confusion matrix and classification report \n",
    "dataset = test_ds\n",
    "\n",
    "\n",
    "\n",
    "# Get predictions from the model\n",
    "predictions = model.predict(dataset)\n",
    "predictions = np.argmax(predictions, axis=1)\n",
    "\n",
    "class_labels = []\n",
    "for c in dataset.class_indices:\n",
    "    class_labels.append(c)\n",
    "\n",
    "print(class_labels)\n",
    "\n",
    "# create a confusion matrix\n",
    "confusion_mtx = tf.math.confusion_matrix(dataset.classes, predictions , num_classes=7)\n",
    "\n",
    "# Function that displays the confusion matrix\n",
    "def show_confusion_matrix(cm, labels):\n",
    "  plt.figure(figsize=(10, 8))\n",
    "  sns.heatmap(cm, xticklabels=class_labels, yticklabels=class_labels, \n",
    "              annot=True, fmt='g')\n",
    "  plt.xlabel('Prediction')\n",
    "  plt.ylabel('Label')\n",
    "  plt.show()\n",
    "\n",
    "\n",
    "print(classification_report(dataset.classes, predictions, target_names=class_labels , digits=4))\n",
    "show_confusion_matrix(confusion_mtx, class_labels)\n"
   ]
  }
 ],
 "metadata": {
  "kernelspec": {
   "display_name": "Python 3 (ipykernel)",
   "language": "python",
   "name": "python3"
  },
  "language_info": {
   "codemirror_mode": {
    "name": "ipython",
    "version": 3
   },
   "file_extension": ".py",
   "mimetype": "text/x-python",
   "name": "python",
   "nbconvert_exporter": "python",
   "pygments_lexer": "ipython3",
   "version": "3.9.10"
  }
 },
 "nbformat": 4,
 "nbformat_minor": 5
}